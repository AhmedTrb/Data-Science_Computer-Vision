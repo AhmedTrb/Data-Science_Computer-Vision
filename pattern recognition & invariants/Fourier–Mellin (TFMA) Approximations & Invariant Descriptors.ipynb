{
 "cells": [
  {
   "cell_type": "code",
   "execution_count": 1,
   "id": "38fbf104",
   "metadata": {},
   "outputs": [
    {
     "ename": "ModuleNotFoundError",
     "evalue": "No module named 'skimage'",
     "output_type": "error",
     "traceback": [
      "\u001b[1;31m---------------------------------------------------------------------------\u001b[0m",
      "\u001b[1;31mModuleNotFoundError\u001b[0m                       Traceback (most recent call last)",
      "Cell \u001b[1;32mIn[1], line 4\u001b[0m\n\u001b[0;32m      2\u001b[0m \u001b[38;5;28;01mimport\u001b[39;00m \u001b[38;5;21;01mnumpy\u001b[39;00m \u001b[38;5;28;01mas\u001b[39;00m \u001b[38;5;21;01mnp\u001b[39;00m\n\u001b[0;32m      3\u001b[0m \u001b[38;5;28;01mimport\u001b[39;00m \u001b[38;5;21;01mmatplotlib\u001b[39;00m\u001b[38;5;21;01m.\u001b[39;00m\u001b[38;5;21;01mpyplot\u001b[39;00m \u001b[38;5;28;01mas\u001b[39;00m \u001b[38;5;21;01mplt\u001b[39;00m\n\u001b[1;32m----> 4\u001b[0m \u001b[38;5;28;01mfrom\u001b[39;00m \u001b[38;5;21;01mskimage\u001b[39;00m \u001b[38;5;28;01mimport\u001b[39;00m io, color, util\n\u001b[0;32m      5\u001b[0m \u001b[38;5;28;01mfrom\u001b[39;00m \u001b[38;5;21;01mskimage\u001b[39;00m\u001b[38;5;21;01m.\u001b[39;00m\u001b[38;5;21;01mtransform\u001b[39;00m \u001b[38;5;28;01mimport\u001b[39;00m warp_polar\n",
      "\u001b[1;31mModuleNotFoundError\u001b[0m: No module named 'skimage'"
     ]
    }
   ],
   "source": [
    "import os\n",
    "import numpy as np\n",
    "import matplotlib.pyplot as plt\n",
    "from skimage import io, color, util\n",
    "from skimage.transform import warp_polar"
   ]
  },
  {
   "cell_type": "code",
   "execution_count": null,
   "id": "04944a81",
   "metadata": {},
   "outputs": [],
   "source": []
  },
  {
   "cell_type": "code",
   "execution_count": null,
   "id": "515a3bfa",
   "metadata": {},
   "outputs": [],
   "source": [
    "# Display helper for consistent figure sizing\n",
    "def show_images(images, titles=None, cmap='gray', figsize=(14,6)):\n",
    "    n = len(images)\n",
    "    plt.figure(figsize=figsize)\n",
    "    for i, img in enumerate(images):\n",
    "        ax = plt.subplot(1, n, i+1)\n",
    "        ax.imshow(img, cmap=cmap, origin='lower')\n",
    "        ax.axis('off')\n",
    "        if titles:\n",
    "            ax.set_title(titles[i])\n",
    "    plt.tight_layout()\n",
    "    plt.show()\n",
    "\n",
    "# Compute log-magnitude spectrum for visualization\n",
    "def log_magnitude_spectrum(img):\n",
    "    F = np.fft.fftshift(np.fft.fft2(img))\n",
    "    mag = np.abs(F)\n",
    "    return np.log1p(mag)"
   ]
  },
  {
   "cell_type": "code",
   "execution_count": null,
   "id": "6b7d7943",
   "metadata": {},
   "outputs": [],
   "source": [
    "\n",
    "folder = \"/coil-20-unproc/coil-20-unprocs\"   # <-- change to your folder\n",
    "if 'image_path' not in globals():\n",
    "    exts = ('.png', '.jpg', '.jpeg', '.tif', '.tiff', '.bmp')\n",
    "    image_path = None\n",
    "    if os.path.isdir(folder):\n",
    "        for fname in os.listdir(folder):\n",
    "            if fname.lower().endswith(exts):\n",
    "                image_path = os.path.join(folder, fname)\n",
    "                break\n",
    "    if image_path is None:\n",
    "        raise FileNotFoundError(f\"No image found in {folder}. Set image_path manually.\")\n",
    "\n",
    "print(\"Loading:\", image_path)\n",
    "img_color = io.imread(image_path)\n",
    "# Convert to grayscale float [0,1]\n",
    "if img_color.ndim == 3:\n",
    "    img_gray = color.rgb2gray(img_color)\n",
    "else:\n",
    "    img_gray = util.img_as_float(img_color)\n",
    "\n",
    "show_images([img_gray], titles=[\"Original (grayscale)\"], figsize=(6,6))"
   ]
  },
  {
   "cell_type": "code",
   "execution_count": null,
   "id": "e4fe80f4",
   "metadata": {},
   "outputs": [],
   "source": [
    "# Cell 3 — Polar transform (linear)\n",
    "# Choose center (defaults to image center)\n",
    "h, w = img_gray.shape[:2]\n",
    "center = (w//2, h//2)\n",
    "\n",
    "# radius: max radius to fit inside image from center\n",
    "max_radius = int(np.hypot(max(center[0], w - center[0]), max(center[1], h - center[1])))\n",
    "\n",
    "# output_shape: (radius_samples, angle_samples)\n",
    "radius_samples = max_radius\n",
    "angle_samples = 720  # increase for smoother angular resolution\n",
    "\n",
    "polar_img = warp_polar(img_gray, center=center, radius=max_radius,\n",
    "                       output_shape=(radius_samples, angle_samples),\n",
    "                       scaling='linear')  # 'linear' polar\n",
    "\n",
    "# visualize\n",
    "show_images([polar_img], titles=[\"Polar transform (linear)\"], figsize=(10,5))\n"
   ]
  },
  {
   "cell_type": "code",
   "execution_count": null,
   "id": "50545211",
   "metadata": {},
   "outputs": [],
   "source": [
    "# Cell 4 — Log-polar transform (radius mapped logarithmically)\n",
    "# warp_polar supports scaling='log' in recent skimage versions\n",
    "try:\n",
    "    logpolar_img = warp_polar(img_gray, center=center, radius=max_radius,\n",
    "                              output_shape=(radius_samples, angle_samples),\n",
    "                              scaling='log')\n",
    "    used_scaling = 'built-in log'\n",
    "except Exception as e:\n",
    "    # fallback: create manual log-polar by remapping radius axis\n",
    "    used_scaling = 'manual log'\n",
    "    # Create radius/angle grids\n",
    "    angles = np.linspace(0, 2*np.pi, angle_samples, endpoint=False)\n",
    "    log_r = np.linspace(0, np.log(max_radius+1), radius_samples)\n",
    "    R = np.exp(log_r) - 1  # from log space back to radius\n",
    "    # build sampling grid\n",
    "    coords = []\n",
    "    for r in R:\n",
    "        xs = center[0] + r * np.cos(angles)\n",
    "        ys = center[1] + r * np.sin(angles)\n",
    "        coords.append(np.vstack([ys, xs]))  # (2, angle_samples)\n",
    "    coords = np.stack(coords, axis=0)  # (radius_samples, 2, angle_samples)\n",
    "    # bilinear interpolation using map_coordinates\n",
    "    from scipy.ndimage import map_coordinates\n",
    "    coords_flat = np.vstack([coords[:,:,i].T for i in range(angle_samples)])  # large stack\n",
    "    # easier: sample per-angle\n",
    "    logpolar_img = np.zeros((radius_samples, angle_samples), dtype=img_gray.dtype)\n",
    "    for j in range(angle_samples):\n",
    "        ys = coords[:,0,j]\n",
    "        xs = coords[:,1,j]\n",
    "        logpolar_img[:, j] = map_coordinates(img_gray, [ys, xs], order=1, mode='reflect')\n",
    "\n",
    "print(\"Log-polar transform method:\", used_scaling)\n",
    "show_images([logpolar_img], titles=[\"Log-polar transform\"], figsize=(10,5))\n"
   ]
  }
 ],
 "metadata": {
  "kernelspec": {
   "display_name": "Python 3",
   "language": "python",
   "name": "python3"
  },
  "language_info": {
   "codemirror_mode": {
    "name": "ipython",
    "version": 3
   },
   "file_extension": ".py",
   "mimetype": "text/x-python",
   "name": "python",
   "nbconvert_exporter": "python",
   "pygments_lexer": "ipython3",
   "version": "3.12.6"
  }
 },
 "nbformat": 4,
 "nbformat_minor": 5
}
