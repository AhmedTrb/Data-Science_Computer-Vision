{
 "cells": [
  {
   "cell_type": "code",
   "execution_count": 2,
   "id": "9dbfb913",
   "metadata": {},
   "outputs": [
    {
     "name": "stderr",
     "output_type": "stream",
     "text": [
      "C:\\Users\\ahmed\\AppData\\Local\\Temp\\ipykernel_23368\\1881236227.py:5: UserWarning: A NumPy version >=1.23.5 and <2.3.0 is required for this version of SciPy (detected version 2.3.4)\n",
      "  from scipy.spatial import Voronoi\n"
     ]
    }
   ],
   "source": [
    "import vtk\n",
    "import numpy as np\n",
    "from vtk.util import numpy_support\n",
    "import matplotlib.pyplot as plt\n",
    "from scipy.spatial import Voronoi"
   ]
  },
  {
   "cell_type": "code",
   "execution_count": 3,
   "id": "cbcb3b7f",
   "metadata": {},
   "outputs": [],
   "source": [
    "object_path = \"./assets/cat1.obj\"\n",
    "\n",
    "reader = vtk.vtkOBJReader()\n",
    "reader.SetFileName(object_path)\n",
    "reader.Update()\n",
    "\n",
    "# --- Step 2: Create a mapper ---\n",
    "mapper = vtk.vtkPolyDataMapper()\n",
    "mapper.SetInputConnection(reader.GetOutputPort())\n",
    "\n",
    "# --- Step 3: Create an actor ---\n",
    "actor = vtk.vtkActor()\n",
    "actor.SetMapper(mapper)\n"
   ]
  },
  {
   "cell_type": "code",
   "execution_count": 4,
   "id": "71d63051",
   "metadata": {},
   "outputs": [],
   "source": [
    "renderer = vtk.vtkRenderer()\n",
    "render_window = vtk.vtkRenderWindow()\n",
    "render_window.AddRenderer(renderer)\n",
    "\n",
    "interactor = vtk.vtkRenderWindowInteractor()\n",
    "interactor.SetRenderWindow(render_window)"
   ]
  },
  {
   "cell_type": "code",
   "execution_count": 5,
   "id": "884bf8d9",
   "metadata": {},
   "outputs": [],
   "source": [
    "# --- Step 5: Add actor and background ---\n",
    "renderer.AddActor(actor)\n",
    "renderer.SetBackground(0.1, 0.1, 0.1)  # Dark gray background\n",
    "\n",
    "# --- Step 6: Start rendering ---\n",
    "render_window.Render()\n",
    "interactor.Start()"
   ]
  },
  {
   "cell_type": "code",
   "execution_count": 6,
   "id": "a0809875",
   "metadata": {},
   "outputs": [
    {
     "name": "stdout",
     "output_type": "stream",
     "text": [
      "Loaded 4008 points.\n"
     ]
    }
   ],
   "source": [
    "# --- Step 1: Load vertices from file ---\n",
    "coordinates_file_path = \"./assets/Objet3D.txt\"\n",
    "\n",
    "coordinates = []\n",
    "with open(coordinates_file_path, \"r\") as file:\n",
    "    for line in file:\n",
    "        if line.startswith(\"v \"):  # Only process vertex lines\n",
    "            _, x, y, z = line.strip().split()\n",
    "            coordinates.append([float(x), float(y), float(z)])\n",
    "\n",
    "points = np.array(coordinates)\n",
    "print(f\"Loaded {len(points)} points.\")\n",
    "\n",
    "# --- Step 2: Convert numpy array to VTK points ---\n",
    "vtk_points = vtk.vtkPoints()\n",
    "for p in points:\n",
    "    vtk_points.InsertNextPoint(p.tolist())"
   ]
  },
  {
   "cell_type": "code",
   "execution_count": 7,
   "id": "0dc33956",
   "metadata": {},
   "outputs": [],
   "source": [
    "vor = Voronoi(points)\n",
    "\n",
    "# --- Step 3: Create VTK PolyData for Voronoi edges ---\n",
    "vtk_voronoi_points = vtk.vtkPoints()\n",
    "for v in vor.vertices:\n",
    "    vtk_voronoi_points.InsertNextPoint(v.tolist())\n",
    "\n",
    "voronoi_polydata = vtk.vtkPolyData()\n",
    "voronoi_polydata.SetPoints(vtk_voronoi_points)\n",
    "\n",
    "voronoi_lines = vtk.vtkCellArray()\n",
    "for ridge in vor.ridge_vertices:\n",
    "    if -1 not in ridge and len(ridge) >= 2:\n",
    "        for i in range(len(ridge) - 1):\n",
    "            line = vtk.vtkLine()\n",
    "            line.GetPointIds().SetId(0, ridge[i])\n",
    "            line.GetPointIds().SetId(1, ridge[i + 1])\n",
    "            voronoi_lines.InsertNextCell(line)\n",
    "\n",
    "voronoi_polydata.SetLines(voronoi_lines)"
   ]
  },
  {
   "cell_type": "code",
   "execution_count": 8,
   "id": "cb0d2b4a",
   "metadata": {},
   "outputs": [],
   "source": [
    "voronoi_mapper = vtk.vtkPolyDataMapper()\n",
    "voronoi_mapper.SetInputData(voronoi_polydata)\n",
    "\n",
    "voronoi_actor = vtk.vtkActor()\n",
    "voronoi_actor.SetMapper(voronoi_mapper)\n",
    "voronoi_actor.GetProperty().SetColor(1, 0, 0)   # red lines\n",
    "voronoi_actor.GetProperty().SetLineWidth(1.5)"
   ]
  },
  {
   "cell_type": "code",
   "execution_count": null,
   "id": "ce448441",
   "metadata": {},
   "outputs": [],
   "source": [
    "\n",
    "# --- Step 5: Create Delaunay triangulation (VTK native) ---\n",
    "vtk_points = vtk.vtkPoints()\n",
    "for p in points:\n",
    "    vtk_points.InsertNextPoint(p.tolist())\n",
    "\n",
    "input_polydata = vtk.vtkPolyData()\n",
    "input_polydata.SetPoints(vtk_points)\n",
    "\n",
    "delaunay = vtk.vtkDelaunay3D()\n",
    "delaunay.SetInputData(input_polydata)\n",
    "delaunay.Update()\n",
    "\n",
    "delaunay_surface_filter = vtk.vtkDataSetSurfaceFilter()\n",
    "delaunay_surface_filter.SetInputConnection(delaunay.GetOutputPort())\n",
    "delaunay_surface_filter.Update()\n",
    "\n",
    "delaunay_mapper = vtk.vtkPolyDataMapper()\n",
    "delaunay_mapper.SetInputConnection(delaunay_surface_filter.GetOutputPort())\n",
    "\n",
    "delaunay_actor = vtk.vtkActor()\n",
    "delaunay_actor.SetMapper(delaunay_mapper)\n",
    "delaunay_actor.GetProperty().SetColor(0, 0, 1)  # blue surface\n",
    "delaunay_actor.GetProperty().SetOpacity(0.3)"
   ]
  },
  {
   "cell_type": "code",
   "execution_count": null,
   "id": "0163d401",
   "metadata": {},
   "outputs": [],
   "source": [
    "renderer = vtk.vtkRenderer()\n",
    "render_window = vtk.vtkRenderWindow()\n",
    "render_window.AddRenderer(renderer)\n",
    "\n",
    "interactor = vtk.vtkRenderWindowInteractor()\n",
    "interactor.SetRenderWindow(render_window)\n",
    "\n",
    "renderer.AddActor(voronoi_actor)\n",
    "renderer.AddActor(delaunay_actor)\n",
    "renderer.SetBackground(1, 1, 1)\n",
    "\n",
    "render_window.SetSize(800, 600)\n",
    "render_window.Render()\n",
    "interactor.Start()"
   ]
  }
 ],
 "metadata": {
  "kernelspec": {
   "display_name": "Python 3",
   "language": "python",
   "name": "python3"
  },
  "language_info": {
   "codemirror_mode": {
    "name": "ipython",
    "version": 3
   },
   "file_extension": ".py",
   "mimetype": "text/x-python",
   "name": "python",
   "nbconvert_exporter": "python",
   "pygments_lexer": "ipython3",
   "version": "3.12.6"
  }
 },
 "nbformat": 4,
 "nbformat_minor": 5
}
