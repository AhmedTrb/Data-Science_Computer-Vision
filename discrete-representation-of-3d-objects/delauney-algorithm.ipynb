{
 "cells": [
  {
   "cell_type": "code",
   "execution_count": 8,
   "id": "9dbfb913",
   "metadata": {},
   "outputs": [],
   "source": [
    "import vtk\n",
    "import numpy as np\n",
    "from vtk.util import numpy_support\n",
    "import matplotlib.pyplot as plt"
   ]
  },
  {
   "cell_type": "code",
   "execution_count": 2,
   "id": "cbcb3b7f",
   "metadata": {},
   "outputs": [],
   "source": [
    "object_path = \"./assets/cat1_un4.obj\"\n",
    "\n",
    "reader = vtk.vtkOBJReader()\n",
    "reader.SetFileName(object_path)\n",
    "reader.Update()\n",
    "\n",
    "# --- Step 2: Create a mapper ---\n",
    "mapper = vtk.vtkPolyDataMapper()\n",
    "mapper.SetInputConnection(reader.GetOutputPort())\n",
    "\n",
    "# --- Step 3: Create an actor ---\n",
    "actor = vtk.vtkActor()\n",
    "actor.SetMapper(mapper)\n",
    "\n",
    "# Optional: Apply some color and lighting properties\n",
    "actor.GetProperty().SetColor(1.0, 1.0, 1.0)   # White\n",
    "actor.GetProperty().SetSpecular(0.5)\n",
    "actor.GetProperty().SetSpecularPower(20)\n",
    "\n"
   ]
  },
  {
   "cell_type": "code",
   "execution_count": 3,
   "id": "71d63051",
   "metadata": {},
   "outputs": [],
   "source": [
    "renderer = vtk.vtkRenderer()\n",
    "render_window = vtk.vtkRenderWindow()\n",
    "render_window.AddRenderer(renderer)\n",
    "\n",
    "interactor = vtk.vtkRenderWindowInteractor()\n",
    "interactor.SetRenderWindow(render_window)\n",
    "\n",
    "# --- Step 5: Add actor and background ---\n",
    "renderer.AddActor(actor)\n",
    "renderer.SetBackground(0.1, 0.1, 0.1)  # Dark gray background\n",
    "\n",
    "# --- Step 6: Start rendering ---\n",
    "render_window.Render()\n",
    "interactor.Start()"
   ]
  },
  {
   "cell_type": "code",
   "execution_count": 10,
   "id": "a0809875",
   "metadata": {},
   "outputs": [
    {
     "name": "stdout",
     "output_type": "stream",
     "text": [
      "Loaded 4008 points.\n"
     ]
    }
   ],
   "source": [
    "# --- Step 1: Load vertices from file ---\n",
    "coordinates_file_path = \"./assets/Objet3D.txt\"\n",
    "\n",
    "coordinates = []\n",
    "with open(coordinates_file_path, \"r\") as file:\n",
    "    for line in file:\n",
    "        if line.startswith(\"v \"):  # Only process vertex lines\n",
    "            _, x, y, z = line.strip().split()\n",
    "            coordinates.append([float(x), float(y), float(z)])\n",
    "\n",
    "points = np.array(coordinates)\n",
    "print(f\"Loaded {len(points)} points.\")\n",
    "\n",
    "# --- Step 2: Convert numpy array to VTK points ---\n",
    "vtk_points = vtk.vtkPoints()\n",
    "for p in points:\n",
    "    vtk_points.InsertNextPoint(p.tolist())"
   ]
  },
  {
   "cell_type": "code",
   "execution_count": null,
   "id": "0dc33956",
   "metadata": {},
   "outputs": [
    {
     "ename": "",
     "evalue": "",
     "output_type": "error",
     "traceback": [
      "\u001b[1;31mThe Kernel crashed while executing code in the current cell or a previous cell. \n",
      "\u001b[1;31mPlease review the code in the cell(s) to identify a possible cause of the failure. \n",
      "\u001b[1;31mClick <a href='https://aka.ms/vscodeJupyterKernelCrash'>here</a> for more info. \n",
      "\u001b[1;31mView Jupyter <a href='command:jupyter.viewOutput'>log</a> for further details."
     ]
    }
   ],
   "source": [
    "# --- Step 3: Perform 3D Delaunay triangulation ---\n",
    "delaunay = vtk.vtkDelaunay3D()\n",
    "polydata = vtk.vtkPolyData()\n",
    "polydata.SetPoints(vtk_points)\n",
    "delaunay.SetInputData(polydata)\n",
    "delaunay.Update()\n",
    "\n",
    "# --- Step 4: Extract the surface of the triangulated volume ---\n",
    "surface_filter = vtk.vtkDataSetSurfaceFilter()\n",
    "surface_filter.SetInputConnection(delaunay.GetOutputPort())\n",
    "surface_filter.Update()\n",
    "\n",
    "# --- Step 5: Create mapper and actor ---\n",
    "mapper = vtk.vtkPolyDataMapper()\n",
    "mapper.SetInputConnection(surface_filter.GetOutputPort())\n",
    "\n",
    "actor = vtk.vtkActor()\n",
    "actor.SetMapper(mapper)\n",
    "actor.GetProperty().SetColor(0.8, 0.8, 0.9)\n",
    "actor.GetProperty().SetOpacity(1.0)\n",
    "actor.GetProperty().EdgeVisibilityOn()\n",
    "\n",
    "# --- Step 6: Create renderer, window, and interactor ---\n",
    "renderer = vtk.vtkRenderer()\n",
    "renderer.AddActor(actor)\n",
    "renderer.SetBackground(0.1, 0.1, 0.1)\n",
    "\n",
    "render_window = vtk.vtkRenderWindow()\n",
    "render_window.AddRenderer(renderer)\n",
    "render_window.SetSize(800, 600)\n",
    "\n",
    "interactor = vtk.vtkRenderWindowInteractor()\n",
    "interactor.SetRenderWindow(render_window)\n",
    "\n",
    "# --- Step 7: Start interaction ---\n",
    "render_window.Render()\n",
    "interactor.Start()"
   ]
  }
 ],
 "metadata": {
  "kernelspec": {
   "display_name": "Python 3",
   "language": "python",
   "name": "python3"
  },
  "language_info": {
   "codemirror_mode": {
    "name": "ipython",
    "version": 3
   },
   "file_extension": ".py",
   "mimetype": "text/x-python",
   "name": "python",
   "nbconvert_exporter": "python",
   "pygments_lexer": "ipython3",
   "version": "3.12.6"
  }
 },
 "nbformat": 4,
 "nbformat_minor": 5
}
